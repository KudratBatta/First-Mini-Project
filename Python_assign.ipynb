{
  "nbformat": 4,
  "nbformat_minor": 0,
  "metadata": {
    "colab": {
      "provenance": [],
      "authorship_tag": "ABX9TyOAjlfomKZHoIFa7tx7bFX1",
      "include_colab_link": true
    },
    "kernelspec": {
      "name": "python3",
      "display_name": "Python 3"
    },
    "language_info": {
      "name": "python"
    }
  },
  "cells": [
    {
      "cell_type": "markdown",
      "metadata": {
        "id": "view-in-github",
        "colab_type": "text"
      },
      "source": [
        "<a href=\"https://colab.research.google.com/github/KudratBatta/First-Mini-Project/blob/main/Python_assign.ipynb\" target=\"_parent\"><img src=\"https://colab.research.google.com/assets/colab-badge.svg\" alt=\"Open In Colab\"/></a>"
      ]
    },
    {
      "cell_type": "code",
      "execution_count": 13,
      "metadata": {
        "colab": {
          "base_uri": "https://localhost:8080/"
        },
        "id": "HdnrZn-coc2B",
        "outputId": "1a7baa4b-c220-4129-a97b-38b58cdd6750"
      },
      "outputs": [
        {
          "output_type": "stream",
          "name": "stdout",
          "text": [
            "add 50,60 in L:  [11, 12, 13, 14, 50, 60]\n",
            "del 11,13 from L [12, 14, 50, 60]\n",
            "sorted L in asc. order [12, 14, 50, 60]\n",
            "sorted L in desc. order [60, 50, 14, 12]\n",
            "no. of elements:  4\n",
            "sum of no. : 136\n",
            "Sum of odd numbers: 0\n",
            "Sum of odd numbers: 0\n",
            "Sum of prime numbers: 0\n",
            "clear elements in L:  None\n"
          ]
        }
      ],
      "source": [
        "# Question 1\n",
        "\n",
        "L=[11,12,13,14]\n",
        "# (i)\n",
        "L.append(50)\n",
        "L.append(60)\n",
        "print(\"add 50,60 in L: \",L)\n",
        "# (ii)\n",
        "L.remove(11)\n",
        "L.remove(13)\n",
        "print(\"del 11,13 from L\",L)\n",
        "# (iii)\n",
        "sorted(L)\n",
        "print(\"sorted L in asc. order\",L)\n",
        "# (iv)\n",
        "L.sort(reverse=True)\n",
        "print(\"sorted L in desc. order\",L)\n",
        "# (v)\n",
        "if 13 in L:\n",
        "  print(\"found\")\n",
        "# (vi)\n",
        "print(\"no. of elements: \",len(L))\n",
        "# (vii)\n",
        "print(\"sum of no. :\",sum(L))\n",
        "# (viii)\n",
        "odd_sum = sum(num for num in L if num % 2 != 0)\n",
        "print(\"Sum of odd numbers:\", odd_sum)\n",
        "# (ix)\n",
        "even_sum = sum(num for num in L if num % 2 != 0)\n",
        "print(\"Sum of odd numbers:\", even_sum)\n",
        "# (x)\n",
        "prime_sum = 0\n",
        "for num in L:\n",
        "    if num > 1:\n",
        "        is_prime = True\n",
        "        for i in range(2, int(num ** 0.5) + 1):\n",
        "            if num % i == 0:\n",
        "                is_prime = False\n",
        "                break\n",
        "        if is_prime:\n",
        "            prime_sum += num\n",
        "\n",
        "print(\"Sum of prime numbers:\", prime_sum)\n",
        "#(xi)\n",
        "print(\"clear elements in L: \",L.clear())\n",
        "#(xii)\n",
        "del L\n"
      ]
    },
    {
      "cell_type": "code",
      "source": [
        "# Question 2\n",
        "\n",
        "\n",
        "D={1:5.6,2:7.8,3:6.6,4:8.7,5:7.7}\n",
        "#(i)\n",
        "D[8]=8.8\n",
        "print(\"append key 8\",D)\n",
        "#(ii)\n",
        "del D[2]\n",
        "print(\"remove key 2\",D)\n",
        "#(iii)\n",
        "print(\"is key 6 present: \",6 in D)\n",
        "#(iv)\n",
        "count=len(D)\n",
        "print(\"no. of elements: \",count)\n",
        "#(v)\n",
        "total = sum(D.values())\n",
        "print(\"Sum of all values:\", total)\n",
        "#(vi)\n",
        "D[3]=7.1\n",
        "print(\"update val of key 3: \",D)\n",
        "#(vii)\n",
        "D.clear()\n",
        "print(\"clear D: \",D)"
      ],
      "metadata": {
        "colab": {
          "base_uri": "https://localhost:8080/"
        },
        "id": "ZshHpy3kpq8E",
        "outputId": "81a671ec-f0b0-46ec-fcb9-660e1aaf8b31"
      },
      "execution_count": 16,
      "outputs": [
        {
          "output_type": "stream",
          "name": "stdout",
          "text": [
            "append key 8 {1: 5.6, 2: 7.8, 3: 6.6, 4: 8.7, 5: 7.7, 8: 8.8}\n",
            "remove key 2 {1: 5.6, 3: 6.6, 4: 8.7, 5: 7.7, 8: 8.8}\n",
            "is key 6 present:  False\n",
            "no. of elements:  5\n",
            "Sum of all values: 37.4\n",
            "update val of key 3:  {1: 5.6, 3: 7.1, 4: 8.7, 5: 7.7, 8: 8.8}\n",
            "clear D:  {}\n"
          ]
        }
      ]
    },
    {
      "cell_type": "code",
      "source": [
        "# Question 3\n",
        "\n",
        "S1 = {10, 20, 30, 40, 50, 60}\n",
        "S2 = {40, 50, 60, 70, 80, 90}\n",
        "\n",
        "# (i) Add 55 and 66 to S1\n",
        "S1.add(55)\n",
        "S1.add(66)\n",
        "print(\"S1 after adding 55 and 66:\", S1)\n",
        "\n",
        "# (ii) Remove 10 and 30 from S1\n",
        "S1.discard(10)\n",
        "S1.discard(30)\n",
        "print(\"S1 after removing 10 and 30:\", S1)\n",
        "\n",
        "# (iii) Check if 40 is present in S1\n",
        "if 40 in S1:\n",
        "    print(\"40 is present in S1\")\n",
        "else:\n",
        "    print(\"40 is not present in S1\")\n",
        "\n",
        "# (iv) Union of S1 and S2\n",
        "union_set = S1.union(S2)\n",
        "print(\"Union of S1 and S2:\", union_set)\n",
        "\n",
        "# (v) Intersection of S1 and S2\n",
        "intersection_set = S1.intersection(S2)\n",
        "print(\"Intersection of S1 and S2:\", intersection_set)\n",
        "\n",
        "# (vi) S1 - S2 (Difference)\n",
        "difference_set = S1.difference(S2)\n",
        "print(\"S1 - S2:\", difference_set)\n"
      ],
      "metadata": {
        "colab": {
          "base_uri": "https://localhost:8080/"
        },
        "id": "pr-wVEp-4_9W",
        "outputId": "ecaeeba7-5a36-46f8-ff35-69f08e43e4c5"
      },
      "execution_count": 17,
      "outputs": [
        {
          "output_type": "stream",
          "name": "stdout",
          "text": [
            "S1 after adding 55 and 66: {50, 66, 20, 55, 40, 10, 60, 30}\n",
            "S1 after removing 10 and 30: {50, 66, 20, 55, 40, 60}\n",
            "40 is present in S1\n",
            "Union of S1 and S2: {66, 70, 40, 80, 50, 20, 55, 90, 60}\n",
            "Intersection of S1 and S2: {40, 50, 60}\n",
            "S1 - S2: {66, 20, 55}\n"
          ]
        }
      ]
    },
    {
      "cell_type": "code",
      "source": [
        "#Question 4\n",
        "#(i)\n",
        "import random\n",
        "import string\n",
        "\n",
        "print(\"100 Random Strings (length 6 to 8):\")\n",
        "for _ in range(100):\n",
        "    length = random.randint(6, 8)\n",
        "    rand_str = ''.join(random.choices(string.ascii_letters + string.digits, k=length))\n",
        "    print(rand_str)\n",
        "#(ii)\n",
        "print(\"\\nPrime numbers between 600 and 800:\")\n",
        "\n",
        "for num in range(600, 801):\n",
        "    if num > 1:\n",
        "        for i in range(2, int(num ** 0.5) + 1):\n",
        "            if num % i == 0:\n",
        "                break\n",
        "        else:\n",
        "            print(num, end=' ')\n",
        "#(iii)\n",
        "print(\"\\n\\nNumbers between 100 and 1000 divisible by both 7 and 9:\")\n",
        "\n",
        "for num in range(100, 1001):\n",
        "    if num % 7 == 0 and num % 9 == 0:\n",
        "        print(num, end=' ')\n"
      ],
      "metadata": {
        "colab": {
          "base_uri": "https://localhost:8080/"
        },
        "id": "LLld037B5Pbk",
        "outputId": "6051616a-ef83-41b9-8f80-c28aa1f5d665"
      },
      "execution_count": 19,
      "outputs": [
        {
          "output_type": "stream",
          "name": "stdout",
          "text": [
            "100 Random Strings (length 6 to 8):\n",
            "xu3KxS\n",
            "kvZkdk\n",
            "bTXAdfU\n",
            "dL35QROe\n",
            "PARfxSH\n",
            "x6ulJI\n",
            "d8VbW11\n",
            "rTwMhy28\n",
            "mQixFQy\n",
            "yo7kXSL\n",
            "lHRdTh\n",
            "5scNAv\n",
            "cnKSaNn\n",
            "5Hokiqo\n",
            "LEYHW6\n",
            "LBBo1yfP\n",
            "dZJGcbea\n",
            "7r5KJS2m\n",
            "SvjZ1HCB\n",
            "yfIAkkP\n",
            "lIaW1r\n",
            "dfNQuBC\n",
            "RWmVd3B\n",
            "VU0sf9k3\n",
            "HnqBKA\n",
            "craHCkE\n",
            "e7qqTv\n",
            "2CQXlP\n",
            "yuUGDfm\n",
            "96V8au\n",
            "2yHGzta\n",
            "Zi90q52s\n",
            "D6kUBp\n",
            "tdQ4yTkI\n",
            "sjQbuEF\n",
            "bJ8d74i4\n",
            "SiOcdig\n",
            "94ySAN\n",
            "bOPbnnSp\n",
            "buV0MX\n",
            "jfICd1Y\n",
            "MxrwWDd8\n",
            "rQufqtw\n",
            "KBmruNGR\n",
            "Zugt1T\n",
            "WCrEdL\n",
            "DOmf0r\n",
            "qppV2kRk\n",
            "ulnNcq\n",
            "QcNICH\n",
            "QEqxJACx\n",
            "1SEPtOP\n",
            "lqPBdZv\n",
            "CJa9L5\n",
            "P7jVJd\n",
            "r5QWve\n",
            "AhtmEPQz\n",
            "fzj2d1K\n",
            "npQGnihy\n",
            "gOQ5Sil\n",
            "eZbNw2x8\n",
            "OiEvG88Z\n",
            "TVTFsExU\n",
            "Gmr3iN\n",
            "BSeht0\n",
            "ancY0Zwe\n",
            "AFUzU7\n",
            "UbkFNu\n",
            "FWYkofo4\n",
            "dtPnPC67\n",
            "IK82AQ\n",
            "hVsJdz4Q\n",
            "eXtGP51\n",
            "KbHhBB4\n",
            "6hDfuVTQ\n",
            "FS9jfdw\n",
            "8oD6Jt\n",
            "u0M76b\n",
            "6ymDPZpE\n",
            "xi4ESu\n",
            "8QB9U0\n",
            "9rs60F60\n",
            "alyvRE\n",
            "bkorLsYU\n",
            "Hb3nrwsw\n",
            "hQHjxU0\n",
            "84bkG9LI\n",
            "7fq2XO1l\n",
            "2ABOSq\n",
            "s1b757\n",
            "Q5DlFv\n",
            "he3zJBpt\n",
            "grpETCyT\n",
            "LSZgle\n",
            "Lhgb4wZM\n",
            "tC20VG\n",
            "NpZHdqtU\n",
            "EWJWGik\n",
            "0Nn8aD\n",
            "hATmkT\n",
            "\n",
            "Prime numbers between 600 and 800:\n",
            "601 607 613 617 619 631 641 643 647 653 659 661 673 677 683 691 701 709 719 727 733 739 743 751 757 761 769 773 787 797 \n",
            "\n",
            "Numbers between 100 and 1000 divisible by both 7 and 9:\n",
            "126 189 252 315 378 441 504 567 630 693 756 819 882 945 "
          ]
        }
      ]
    },
    {
      "cell_type": "code",
      "source": [
        "#Question 5\n",
        "\n",
        "import random\n",
        "\n",
        "# Create two lists of 10 random numbers between 10 and 30\n",
        "list1 = [random.randint(10, 30) for _ in range(10)]\n",
        "list2 = [random.randint(10, 30) for _ in range(10)]\n",
        "\n",
        "print(\"List 1:\", list1)\n",
        "print(\"List 2:\", list2)\n",
        "\n",
        "# (i) Common numbers\n",
        "common = list(set(list1) & set(list2))\n",
        "print(\"\\n(i) Common numbers:\", common)\n",
        "\n",
        "# (ii) Unique numbers in both lists\n",
        "unique = list((set(list1) ^ set(list2)))\n",
        "print(\"(ii) Unique numbers:\", unique)\n",
        "\n",
        "# (iii) Minimum in both lists\n",
        "print(\"(iii) Minimum in List 1:\", min(list1))\n",
        "print(\"      Minimum in List 2:\", min(list2))\n",
        "\n",
        "# (iv) Maximum in both lists\n",
        "print(\"(iv) Maximum in List 1:\", max(list1))\n",
        "print(\"      Maximum in List 2:\", max(list2))\n",
        "\n",
        "# (v) Sum of both lists\n",
        "print(\"(v) Sum of List 1:\", sum(list1))\n",
        "print(\"    Sum of List 2:\", sum(list2))\n"
      ],
      "metadata": {
        "colab": {
          "base_uri": "https://localhost:8080/"
        },
        "id": "1XfxzAGu6BPw",
        "outputId": "71df1b11-489d-459b-e32a-3b5ba3256a06"
      },
      "execution_count": 20,
      "outputs": [
        {
          "output_type": "stream",
          "name": "stdout",
          "text": [
            "List 1: [10, 29, 19, 24, 18, 15, 26, 28, 14, 14]\n",
            "List 2: [28, 28, 21, 10, 13, 27, 12, 22, 12, 10]\n",
            "\n",
            "(i) Common numbers: [10, 28]\n",
            "(ii) Unique numbers: [12, 13, 14, 15, 18, 19, 21, 22, 24, 26, 27, 29]\n",
            "(iii) Minimum in List 1: 10\n",
            "      Minimum in List 2: 10\n",
            "(iv) Maximum in List 1: 29\n",
            "      Maximum in List 2: 28\n",
            "(v) Sum of List 1: 197\n",
            "    Sum of List 2: 183\n"
          ]
        }
      ]
    },
    {
      "cell_type": "code",
      "source": [
        "# Question 6\n",
        "\n",
        "import random\n",
        "numbers = [random.randint(100, 900) for _ in range(100)]\n",
        "\n",
        "# Lists to store odd, even, and prime numbers\n",
        "odd_numbers = []\n",
        "even_numbers = []\n",
        "prime_numbers = []\n",
        "def is_prime(n):\n",
        "    if n < 2:\n",
        "        return False\n",
        "    for i in range(2, int(n**0.5) + 1):\n",
        "        if n % i == 0:\n",
        "            return False\n",
        "    return True\n",
        "\n",
        "\n",
        "for num in numbers:\n",
        "    if num % 2 == 0:\n",
        "        even_numbers.append(num)\n",
        "    else:\n",
        "        odd_numbers.append(num)\n",
        "\n",
        "    if is_prime(num):\n",
        "        prime_numbers.append(num)\n",
        "\n",
        "print(\"Generated Numbers:\", numbers)\n",
        "print(\"\\n(i) Odd Numbers (count =\", len(odd_numbers), \"):\", odd_numbers)\n",
        "print(\"\\n(ii) Even Numbers (count =\", len(even_numbers), \"):\", even_numbers)\n",
        "print(\"\\n(iii) Prime Numbers (count =\", len(prime_numbers), \"):\", prime_numbers)\n"
      ],
      "metadata": {
        "colab": {
          "base_uri": "https://localhost:8080/"
        },
        "id": "ZZjJpVJO6Noc",
        "outputId": "e0d4029d-ddb0-4bc3-934d-c88df76ad63e"
      },
      "execution_count": 21,
      "outputs": [
        {
          "output_type": "stream",
          "name": "stdout",
          "text": [
            "Generated Numbers: [784, 853, 209, 695, 106, 608, 366, 205, 762, 712, 299, 857, 121, 537, 781, 403, 465, 454, 637, 714, 896, 124, 436, 599, 453, 242, 263, 595, 186, 720, 687, 235, 248, 271, 574, 222, 774, 289, 278, 237, 806, 773, 337, 468, 883, 244, 220, 590, 403, 335, 726, 330, 602, 217, 739, 308, 215, 152, 294, 567, 285, 201, 358, 219, 662, 451, 733, 393, 549, 822, 411, 797, 101, 379, 504, 179, 554, 171, 408, 407, 344, 393, 255, 693, 449, 670, 123, 365, 360, 574, 145, 565, 217, 861, 633, 333, 584, 329, 571, 125]\n",
            "\n",
            "(i) Odd Numbers (count = 59 ): [853, 209, 695, 205, 299, 857, 121, 537, 781, 403, 465, 637, 599, 453, 263, 595, 687, 235, 271, 289, 237, 773, 337, 883, 403, 335, 217, 739, 215, 567, 285, 201, 219, 451, 733, 393, 549, 411, 797, 101, 379, 179, 171, 407, 393, 255, 693, 449, 123, 365, 145, 565, 217, 861, 633, 333, 329, 571, 125]\n",
            "\n",
            "(ii) Even Numbers (count = 41 ): [784, 106, 608, 366, 762, 712, 454, 714, 896, 124, 436, 242, 186, 720, 248, 574, 222, 774, 278, 806, 468, 244, 220, 590, 726, 330, 602, 308, 152, 294, 358, 662, 822, 504, 554, 408, 344, 670, 360, 574, 584]\n",
            "\n",
            "(iii) Prime Numbers (count = 16 ): [853, 857, 599, 263, 271, 773, 337, 883, 739, 733, 797, 101, 379, 179, 449, 571]\n"
          ]
        }
      ]
    },
    {
      "cell_type": "code",
      "source": [
        "# Question 7\n",
        "\n",
        "D = {1: \"One\", 2: \"Two\", 3: \"Three\", 4: \"Four\", 5: \"Five\"}\n",
        "\n",
        "with open(\"output.txt\", \"w\") as file:\n",
        "    for key, value in D.items():\n",
        "        file.write(f\"Key{key}, Value{value}\\n\")\n",
        "\n",
        "print(\"Formatted dictionary written to output.txt\")\n"
      ],
      "metadata": {
        "colab": {
          "base_uri": "https://localhost:8080/"
        },
        "id": "vSfWcua86tmP",
        "outputId": "310d116f-061c-437e-ca33-838eaf7e1bd6"
      },
      "execution_count": 23,
      "outputs": [
        {
          "output_type": "stream",
          "name": "stdout",
          "text": [
            "Formatted dictionary written to output.txt\n"
          ]
        }
      ]
    },
    {
      "cell_type": "code",
      "source": [
        " # Question 8\n",
        "\n",
        "L = [\"One\", \"Two\", \"Three\", \"Four\", \"Five\"]\n",
        "\n",
        "with open(\"output.txt\", \"w\") as file:\n",
        "    for item in L:\n",
        "        length = len(item)\n",
        "        file.write(f\"{item}, {length}\\n\")\n",
        "\n",
        "print(\"Element lengths written to output.txt\")\n"
      ],
      "metadata": {
        "colab": {
          "base_uri": "https://localhost:8080/"
        },
        "id": "vm0Q66zu7y2Z",
        "outputId": "c414805e-207d-45d3-9063-faa07469fbe6"
      },
      "execution_count": 24,
      "outputs": [
        {
          "output_type": "stream",
          "name": "stdout",
          "text": [
            "Element lengths written to output.txt\n"
          ]
        }
      ]
    },
    {
      "cell_type": "code",
      "source": [
        "# Question 9\n",
        "\n",
        "import random\n",
        "import string\n",
        "\n",
        "with open(\"random_strings.txt\", \"w\") as file:\n",
        "    for _ in range(100):\n",
        "        length = random.randint(10, 15)\n",
        "        rand_str = ''.join(random.choices(string.ascii_letters + string.digits, k=length))\n",
        "        file.write(rand_str + \"\\n\")\n",
        "\n",
        "print(\"100 random strings written to random_strings.txt\")\n"
      ],
      "metadata": {
        "colab": {
          "base_uri": "https://localhost:8080/"
        },
        "id": "FwMuUUwB8i-V",
        "outputId": "3e28beee-d187-45ee-aead-9847c4ec96ac"
      },
      "execution_count": 25,
      "outputs": [
        {
          "output_type": "stream",
          "name": "stdout",
          "text": [
            "100 random strings written to random_strings.txt\n"
          ]
        }
      ]
    },
    {
      "cell_type": "code",
      "source": [
        "# Question 10\n",
        "\n",
        "def is_prime(n):\n",
        "    if n < 2:\n",
        "        return False\n",
        "    for i in range(2, int(n**0.5) + 1):\n",
        "        if n % i == 0:\n",
        "            return False\n",
        "    return True\n",
        "with open(\"prime_600_to_800.txt\", \"w\") as file:\n",
        "    for num in range(600, 801):\n",
        "        if is_prime(num):\n",
        "            file.write(str(num) + \"\\n\")\n",
        "\n",
        "print(\"Prime numbers between 600 and 800 written to prime_600_to_800.txt\")\n"
      ],
      "metadata": {
        "colab": {
          "base_uri": "https://localhost:8080/"
        },
        "id": "N-D5aBT_82_B",
        "outputId": "00e38a83-9aa0-4dd9-df14-7c040cda57c2"
      },
      "execution_count": 26,
      "outputs": [
        {
          "output_type": "stream",
          "name": "stdout",
          "text": [
            "Prime numbers between 600 and 800 written to prime_600_to_800.txt\n"
          ]
        }
      ]
    },
    {
      "cell_type": "code",
      "source": [
        "# Question 11\n",
        "\n",
        "import time\n",
        "start = time.time()\n",
        "total = 0\n",
        "for i in range(1, 1000001):\n",
        "    total += i\n",
        "end = time.time()\n",
        "\n",
        "print(\"Time taken:\", end - start, \"seconds\")\n"
      ],
      "metadata": {
        "colab": {
          "base_uri": "https://localhost:8080/"
        },
        "id": "MAbR7TuT9Ndr",
        "outputId": "ede6d43b-e395-415d-97a7-114ec8271879"
      },
      "execution_count": 27,
      "outputs": [
        {
          "output_type": "stream",
          "name": "stdout",
          "text": [
            "Time taken: 0.127669095993042 seconds\n"
          ]
        }
      ]
    },
    {
      "cell_type": "code",
      "source": [
        "# Question 12\n",
        "\n",
        "import time\n",
        "import random\n",
        "import matplotlib.pyplot as plt\n",
        "\n",
        "sizes = [5000, 10000, 15000, 20000, 25000]\n",
        "times = []\n",
        "\n",
        "for size in sizes:\n",
        "    lst = [random.randint(1, 1000000) for _ in range(size)]\n",
        "\n",
        "    # Measure sort time\n",
        "    start = time.perf_counter()\n",
        "    lst.sort()\n",
        "    end = time.perf_counter()\n",
        "\n",
        "    elapsed = end - start\n",
        "    times.append(elapsed)\n",
        "    print(f\"Sorted list of {size} elements in {elapsed:.6f} seconds\")\n",
        "\n",
        "# Plotting\n",
        "plt.figure(figsize=(8, 5))\n",
        "plt.plot(sizes, times, marker='o', color='blue')\n",
        "plt.title(\"List Size vs Sorting Time\")\n",
        "plt.xlabel(\"Number of Elements in List\")\n",
        "plt.ylabel(\"Time Taken (seconds)\")\n",
        "plt.grid(True)\n",
        "plt.tight_layout()\n",
        "plt.show()\n"
      ],
      "metadata": {
        "colab": {
          "base_uri": "https://localhost:8080/",
          "height": 594
        },
        "id": "BJM36STb9hfB",
        "outputId": "34d27f43-8eb3-46ff-8930-23ced2163b22"
      },
      "execution_count": 28,
      "outputs": [
        {
          "output_type": "stream",
          "name": "stdout",
          "text": [
            "Sorted list of 5000 elements in 0.001090 seconds\n",
            "Sorted list of 10000 elements in 0.001712 seconds\n",
            "Sorted list of 15000 elements in 0.002615 seconds\n",
            "Sorted list of 20000 elements in 0.004035 seconds\n",
            "Sorted list of 25000 elements in 0.005368 seconds\n"
          ]
        },
        {
          "output_type": "display_data",
          "data": {
            "text/plain": [
              "<Figure size 800x500 with 1 Axes>"
            ],
            "image/png": "[encoded data removed]"
          },
          "metadata": {}
        }
      ]
    },
    {
      "cell_type": "code",
      "source": [
        "#  Question 13\n",
        "\n",
        "students = {\n",
        "    \"Alice\": [78, 85, 90, 88, 92],\n",
        "    \"Bob\": [65, 70, 72, 60, 68],\n",
        "    \"Charlie\": [90, 91, 89, 94, 87],\n",
        "    \"David\": [55, 60, 58, 62, 59],\n",
        "    \"Eva\": [80, 82, 85, 78, 81]\n",
        "}\n",
        "total_marks = {}\n",
        "for name, marks in students.items():\n",
        "    total = sum(marks)\n",
        "    total_marks[name] = total\n",
        "\n",
        "max_student = max(total_marks, key=total_marks.get)\n",
        "min_student = min(total_marks, key=total_marks.get)\n",
        "\n",
        "print(f\"Student with maximum marks: {max_student} ({total_marks[max_student]} marks)\")\n",
        "print(f\"Student with minimum marks: {min_student} ({total_marks[min_student]} marks)\")\n"
      ],
      "metadata": {
        "colab": {
          "base_uri": "https://localhost:8080/"
        },
        "id": "NVu8fjPn915v",
        "outputId": "8d3d03e6-7793-457f-958a-eb77a715473e"
      },
      "execution_count": 29,
      "outputs": [
        {
          "output_type": "stream",
          "name": "stdout",
          "text": [
            "Student with maximum marks: Charlie (451 marks)\n",
            "Student with minimum marks: David (294 marks)\n"
          ]
        }
      ]
    }
  ]
}